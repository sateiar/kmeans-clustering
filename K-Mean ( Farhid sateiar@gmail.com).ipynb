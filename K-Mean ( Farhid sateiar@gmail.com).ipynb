{
 "cells": [
  {
   "cell_type": "markdown",
   "metadata": {},
   "source": [
    "# Import Library"
   ]
  },
  {
   "cell_type": "code",
   "execution_count": 1,
   "metadata": {
    "ExecuteTime": {
     "end_time": "2019-07-30T16:19:45.778693Z",
     "start_time": "2019-07-30T16:19:44.147085Z"
    }
   },
   "outputs": [],
   "source": [
    "import random\n",
    "import math\n",
    "import numpy as np\n",
    "import matplotlib.pyplot as plt"
   ]
  },
  {
   "cell_type": "markdown",
   "metadata": {},
   "source": [
    "# Distance Calculate Function"
   ]
  },
  {
   "cell_type": "code",
   "execution_count": 2,
   "metadata": {
    "ExecuteTime": {
     "end_time": "2019-07-30T16:19:47.947001Z",
     "start_time": "2019-07-30T16:19:47.941857Z"
    }
   },
   "outputs": [],
   "source": [
    "def EuclidianDistance (pointA,PointB):\n",
    "    distance= 0.0\n",
    "    for i in range(len(pointA)):\n",
    "        distance += (pointA[i] - PointB[i])**2\n",
    "    distance = math.sqrt(distance)\n",
    "    return distance"
   ]
  },
  {
   "cell_type": "markdown",
   "metadata": {},
   "source": [
    "# K-Means Algorithm Function"
   ]
  },
  {
   "cell_type": "code",
   "execution_count": 3,
   "metadata": {
    "ExecuteTime": {
     "end_time": "2019-07-30T16:19:50.119052Z",
     "start_time": "2019-07-30T16:19:50.098378Z"
    }
   },
   "outputs": [],
   "source": [
    "def Kmeans(DataSetPoint,NumberCluster,MaxIterations = 100):\n",
    "    #Find Dimension Data set\n",
    "    Dimension = len(DataSetPoint[0])     \n",
    "    cluster = [0] * len(DataSetPoint)\n",
    "    prev_cluster = [-1] * len(DataSetPoint)\n",
    "    i = 0\n",
    "    #Find Cluster Centers Randomly\n",
    "    cluster_centers = []\n",
    "    for i in range(NumberCluster):\n",
    "        new_cluster = []\n",
    "        cluster_centers += [random.choice(DataSetPoint)]\n",
    "        force_recalculation = False\n",
    "    #Extract Number Cluster\n",
    "    while (cluster != prev_cluster) or (i > MaxIterations) or (force_recalculation) : \n",
    "        prev_cluster = list(cluster)\n",
    "        force_recalculation = False\n",
    "        i += 1\n",
    "        for p in range(0,len(DataSetPoint)):\n",
    "            min_dist = float(\"inf\")\n",
    "            for c in range(0,len(cluster_centers)):\n",
    "                dist = EuclidianDistance(DataSetPoint[p],cluster_centers[c])\n",
    "                if (dist < min_dist):\n",
    "                    min_dist = dist  \n",
    "                    cluster[p] = c   \n",
    "        for NumberCluster in range(0,len(cluster_centers)):\n",
    "            new_center = [0] * Dimension\n",
    "            members = 0\n",
    "            for p in range(0,len(DataSetPoint)):\n",
    "                if (cluster[p] == NumberCluster): #If this point belongs to the cluster\n",
    "                    for j in range(0,Dimension):\n",
    "                        new_center[j] += DataSetPoint[p][j]\n",
    "                    members += 1          \n",
    "            for j in range(0,Dimension):\n",
    "                if members != 0:\n",
    "                    new_center[j] = new_center[j] / float(members) \n",
    "                else: \n",
    "                    new_center = random.choice(DataSetPoint)\n",
    "                    force_recalculation = True\n",
    "                    print (\"Forced Recalculation...\")\n",
    "            cluster_centers[NumberCluster] = new_center\n",
    "    return cluster_centers,cluster,i\n",
    "    "
   ]
  },
  {
   "cell_type": "markdown",
   "metadata": {},
   "source": [
    "# Visualization Function"
   ]
  },
  {
   "cell_type": "code",
   "execution_count": 4,
   "metadata": {
    "ExecuteTime": {
     "end_time": "2019-07-30T16:19:51.624220Z",
     "start_time": "2019-07-30T16:19:51.604770Z"
    }
   },
   "outputs": [],
   "source": [
    "def Visualization(Center,DataSetPoint,Cluster,numbercluster):\n",
    "    fig, (ax1, ax2) = plt.subplots(1, 2)\n",
    "    fig.suptitle(' Scatter Plot on 100 Random Number ')\n",
    "    ax1.scatter(sample_set[:,0], sample_set[:,1],25,c='b')\n",
    "    ax1.set_title(\" Sample Data  \")\n",
    "    CX,CY = [],[]\n",
    "    for i in range(len (Center)):\n",
    "        CX.append(Center[i][0])\n",
    "        CY.append(Center[i][1])\n",
    "    plt.scatter(sample_set[:,0],sample_set[:,1] , c='#050505', s=7)\n",
    "    plt.scatter(CX, CY, marker='*', s=200, c='g')\n",
    "    colors = ['r', 'g', 'b', 'y', 'c', 'm']\n",
    "    for i in range(numbercluster):\n",
    "            points = np.array([sample_set[j] for j in range(len(sample_set)) if cluster[j] == i])\n",
    "            ax2.scatter(points[:, 0], points[:, 1], s=7, c=colors[i])\n",
    "    ax2.scatter(CX, CY, marker='*', s=200, c='#050505')\n",
    "    ax2.set_title(\" Kmeans Scatter Plot \")"
   ]
  },
  {
   "cell_type": "markdown",
   "metadata": {},
   "source": [
    "# Test Function"
   ]
  },
  {
   "cell_type": "code",
   "execution_count": 5,
   "metadata": {
    "ExecuteTime": {
     "end_time": "2019-07-30T16:19:53.771340Z",
     "start_time": "2019-07-30T16:19:52.930954Z"
    }
   },
   "outputs": [
    {
     "name": "stdout",
     "output_type": "stream",
     "text": [
      "============== Results ==============\n",
      "Center Points of Clusters :  [[5.0920742803130725, 3.9338843045532457], [1.7233029243975133, 7.802160011880447], [8.62601445106976, 2.1503110389569526], [7.030434930867759, 7.95203193740193], [1.5856122243432276, 2.094688605329623]]\n",
      "====================================\n",
      "Number Iterations :  12\n",
      "====================================\n",
      "Cluster Labels :  [3, 0, 0, 3, 1, 3, 2, 3, 1, 1, 4, 0, 2, 1, 1, 4, 4, 1, 0, 4, 0, 2, 1, 0, 1, 0, 4, 1, 0, 4, 3, 3, 0, 2, 1, 1, 3, 1, 0, 0, 0, 2, 0, 4, 1, 0, 4, 4, 3, 0, 0, 0, 4, 0, 4, 0, 3, 1, 3, 0, 1, 4, 3, 1, 1, 4, 4, 1, 2, 4, 1, 3, 3, 3, 0, 4, 0, 2, 1, 3, 1, 4, 1, 2, 1, 4, 1, 2, 0, 1, 1, 0, 1, 4, 2, 2, 3, 1, 0, 0]\n",
      "====================================\n"
     ]
    },
    {
     "data": {
      "image/png": "[encoded data removed]",
      "text/plain": [
       "<Figure size 432x288 with 2 Axes>"
      ]
     },
     "metadata": {
      "needs_background": "light"
     },
     "output_type": "display_data"
    }
   ],
   "source": [
    "#Prepare Data and Visualize on Scatter Plot\n",
    "sample_set=np.random.rand(100, 2)*10\n",
    "numbercluster=5\n",
    "Center , cluster, iteration = Kmeans(sample_set,numbercluster)\n",
    "\n",
    "print (\"============== Results ==============\")\n",
    "print (\"Center Points of Clusters : \", Center)\n",
    "print (\"====================================\")\n",
    "print (\"Number Iterations : \",iteration)\n",
    "print (\"====================================\")\n",
    "print (\"Cluster Labels : \", cluster)\n",
    "print (\"====================================\")\n",
    "\n",
    "Visualization(Center,sample_set,cluster,numbercluster)"
   ]
  },
  {
   "cell_type": "code",
   "execution_count": null,
   "metadata": {},
   "outputs": [],
   "source": []
  }
 ],
 "metadata": {
  "kernelspec": {
   "display_name": "Python 3",
   "language": "python",
   "name": "python3"
  },
  "language_info": {
   "codemirror_mode": {
    "name": "ipython",
    "version": 3
   },
   "file_extension": ".py",
   "mimetype": "text/x-python",
   "name": "python",
   "nbconvert_exporter": "python",
   "pygments_lexer": "ipython3",
   "version": "3.7.0"
  },
  "toc": {
   "base_numbering": 1,
   "nav_menu": {},
   "number_sections": true,
   "sideBar": true,
   "skip_h1_title": false,
   "title_cell": "Table of Contents",
   "title_sidebar": "Contents",
   "toc_cell": false,
   "toc_position": {},
   "toc_section_display": true,
   "toc_window_display": true
  }
 },
 "nbformat": 4,
 "nbformat_minor": 2
}
